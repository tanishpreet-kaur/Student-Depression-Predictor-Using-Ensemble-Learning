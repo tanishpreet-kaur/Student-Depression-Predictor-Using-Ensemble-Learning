{
 "cells": [
  {
   "cell_type": "code",
   "execution_count": 1,
   "id": "19cea980-b21d-48e9-b86a-7c10a6cf2eb0",
   "metadata": {},
   "outputs": [],
   "source": [
    "import pandas as pd\n",
    "import numpy as np"
   ]
  },
  {
   "cell_type": "code",
   "execution_count": 2,
   "id": "71e2de7a-01c3-406f-9f85-fc6e10300023",
   "metadata": {},
   "outputs": [],
   "source": [
    "df = pd.read_csv(r\"C:\\Users\\Balvi\\OneDrive\\Desktop\\VG\\student depression\\Student Depression Dataset.csv\")"
   ]
  },
  {
   "cell_type": "code",
   "execution_count": 3,
   "id": "319a2c8f-bde8-44fd-b429-19843fb8f79f",
   "metadata": {},
   "outputs": [
    {
     "name": "stdout",
     "output_type": "stream",
     "text": [
      "Column Headings:\n",
      "['Gender', 'Age', 'Academic Pressure', 'Work Pressure', 'CGPA', 'Study Satisfaction', 'Job Satisfaction', 'Sleep Duration', 'Dietary Habits', 'Have you ever had suicidal thoughts ?', 'Work/Study Hours', 'Financial Stress', 'Family History of Mental Illness', 'Depression']\n"
     ]
    }
   ],
   "source": [
    "print(\"Column Headings:\")\n",
    "print(df.columns.tolist())"
   ]
  },
  {
   "cell_type": "code",
   "execution_count": 4,
   "id": "b3648c75-5a6c-4a5e-af85-967781ba0edf",
   "metadata": {},
   "outputs": [
    {
     "name": "stdout",
     "output_type": "stream",
     "text": [
      "Gender                                   0\n",
      "Age                                      0\n",
      "Academic Pressure                        0\n",
      "Work Pressure                            0\n",
      "CGPA                                     0\n",
      "Study Satisfaction                       0\n",
      "Job Satisfaction                         0\n",
      "Sleep Duration                           0\n",
      "Dietary Habits                           0\n",
      "Have you ever had suicidal thoughts ?    0\n",
      "Work/Study Hours                         0\n",
      "Financial Stress                         3\n",
      "Family History of Mental Illness         0\n",
      "Depression                               0\n",
      "dtype: int64\n"
     ]
    }
   ],
   "source": [
    "df.replace('?', np.nan, inplace=True)\n",
    "print(df.isnull().sum())"
   ]
  },
  {
   "cell_type": "code",
   "execution_count": 5,
   "id": "80656b08-2c11-4f1c-87a4-e5cf2ae18b97",
   "metadata": {},
   "outputs": [
    {
     "data": {
      "text/html": [
       "<div>\n",
       "<style scoped>\n",
       "    .dataframe tbody tr th:only-of-type {\n",
       "        vertical-align: middle;\n",
       "    }\n",
       "\n",
       "    .dataframe tbody tr th {\n",
       "        vertical-align: top;\n",
       "    }\n",
       "\n",
       "    .dataframe thead th {\n",
       "        text-align: right;\n",
       "    }\n",
       "</style>\n",
       "<table border=\"1\" class=\"dataframe\">\n",
       "  <thead>\n",
       "    <tr style=\"text-align: right;\">\n",
       "      <th></th>\n",
       "      <th>Age</th>\n",
       "      <th>Academic Pressure</th>\n",
       "      <th>Work Pressure</th>\n",
       "      <th>CGPA</th>\n",
       "      <th>Study Satisfaction</th>\n",
       "      <th>Job Satisfaction</th>\n",
       "      <th>Work/Study Hours</th>\n",
       "      <th>Financial Stress</th>\n",
       "      <th>Depression</th>\n",
       "    </tr>\n",
       "  </thead>\n",
       "  <tbody>\n",
       "    <tr>\n",
       "      <th>count</th>\n",
       "      <td>27901.000000</td>\n",
       "      <td>27901.000000</td>\n",
       "      <td>27901.000000</td>\n",
       "      <td>27901.000000</td>\n",
       "      <td>27901.000000</td>\n",
       "      <td>27901.000000</td>\n",
       "      <td>27901.000000</td>\n",
       "      <td>27898.000000</td>\n",
       "      <td>27901.000000</td>\n",
       "    </tr>\n",
       "    <tr>\n",
       "      <th>mean</th>\n",
       "      <td>25.822300</td>\n",
       "      <td>3.141214</td>\n",
       "      <td>0.000430</td>\n",
       "      <td>7.656104</td>\n",
       "      <td>2.943837</td>\n",
       "      <td>0.000681</td>\n",
       "      <td>7.156984</td>\n",
       "      <td>3.139867</td>\n",
       "      <td>0.585499</td>\n",
       "    </tr>\n",
       "    <tr>\n",
       "      <th>std</th>\n",
       "      <td>4.905687</td>\n",
       "      <td>1.381465</td>\n",
       "      <td>0.043992</td>\n",
       "      <td>1.470707</td>\n",
       "      <td>1.361148</td>\n",
       "      <td>0.044394</td>\n",
       "      <td>3.707642</td>\n",
       "      <td>1.437347</td>\n",
       "      <td>0.492645</td>\n",
       "    </tr>\n",
       "    <tr>\n",
       "      <th>min</th>\n",
       "      <td>18.000000</td>\n",
       "      <td>0.000000</td>\n",
       "      <td>0.000000</td>\n",
       "      <td>0.000000</td>\n",
       "      <td>0.000000</td>\n",
       "      <td>0.000000</td>\n",
       "      <td>0.000000</td>\n",
       "      <td>1.000000</td>\n",
       "      <td>0.000000</td>\n",
       "    </tr>\n",
       "    <tr>\n",
       "      <th>25%</th>\n",
       "      <td>21.000000</td>\n",
       "      <td>2.000000</td>\n",
       "      <td>0.000000</td>\n",
       "      <td>6.290000</td>\n",
       "      <td>2.000000</td>\n",
       "      <td>0.000000</td>\n",
       "      <td>4.000000</td>\n",
       "      <td>2.000000</td>\n",
       "      <td>0.000000</td>\n",
       "    </tr>\n",
       "    <tr>\n",
       "      <th>50%</th>\n",
       "      <td>25.000000</td>\n",
       "      <td>3.000000</td>\n",
       "      <td>0.000000</td>\n",
       "      <td>7.770000</td>\n",
       "      <td>3.000000</td>\n",
       "      <td>0.000000</td>\n",
       "      <td>8.000000</td>\n",
       "      <td>3.000000</td>\n",
       "      <td>1.000000</td>\n",
       "    </tr>\n",
       "    <tr>\n",
       "      <th>75%</th>\n",
       "      <td>30.000000</td>\n",
       "      <td>4.000000</td>\n",
       "      <td>0.000000</td>\n",
       "      <td>8.920000</td>\n",
       "      <td>4.000000</td>\n",
       "      <td>0.000000</td>\n",
       "      <td>10.000000</td>\n",
       "      <td>4.000000</td>\n",
       "      <td>1.000000</td>\n",
       "    </tr>\n",
       "    <tr>\n",
       "      <th>max</th>\n",
       "      <td>59.000000</td>\n",
       "      <td>5.000000</td>\n",
       "      <td>5.000000</td>\n",
       "      <td>10.000000</td>\n",
       "      <td>5.000000</td>\n",
       "      <td>4.000000</td>\n",
       "      <td>12.000000</td>\n",
       "      <td>5.000000</td>\n",
       "      <td>1.000000</td>\n",
       "    </tr>\n",
       "  </tbody>\n",
       "</table>\n",
       "</div>"
      ],
      "text/plain": [
       "                Age  Academic Pressure  Work Pressure          CGPA  \\\n",
       "count  27901.000000       27901.000000   27901.000000  27901.000000   \n",
       "mean      25.822300           3.141214       0.000430      7.656104   \n",
       "std        4.905687           1.381465       0.043992      1.470707   \n",
       "min       18.000000           0.000000       0.000000      0.000000   \n",
       "25%       21.000000           2.000000       0.000000      6.290000   \n",
       "50%       25.000000           3.000000       0.000000      7.770000   \n",
       "75%       30.000000           4.000000       0.000000      8.920000   \n",
       "max       59.000000           5.000000       5.000000     10.000000   \n",
       "\n",
       "       Study Satisfaction  Job Satisfaction  Work/Study Hours  \\\n",
       "count        27901.000000      27901.000000      27901.000000   \n",
       "mean             2.943837          0.000681          7.156984   \n",
       "std              1.361148          0.044394          3.707642   \n",
       "min              0.000000          0.000000          0.000000   \n",
       "25%              2.000000          0.000000          4.000000   \n",
       "50%              3.000000          0.000000          8.000000   \n",
       "75%              4.000000          0.000000         10.000000   \n",
       "max              5.000000          4.000000         12.000000   \n",
       "\n",
       "       Financial Stress    Depression  \n",
       "count      27898.000000  27901.000000  \n",
       "mean           3.139867      0.585499  \n",
       "std            1.437347      0.492645  \n",
       "min            1.000000      0.000000  \n",
       "25%            2.000000      0.000000  \n",
       "50%            3.000000      1.000000  \n",
       "75%            4.000000      1.000000  \n",
       "max            5.000000      1.000000  "
      ]
     },
     "execution_count": 5,
     "metadata": {},
     "output_type": "execute_result"
    }
   ],
   "source": [
    "df.describe()"
   ]
  },
  {
   "cell_type": "code",
   "execution_count": 6,
   "id": "69a53fc2-c79b-45a1-aa89-1834115fc196",
   "metadata": {},
   "outputs": [
    {
     "name": "stdout",
     "output_type": "stream",
     "text": [
      "<class 'pandas.core.frame.DataFrame'>\n",
      "RangeIndex: 27901 entries, 0 to 27900\n",
      "Data columns (total 14 columns):\n",
      " #   Column                                 Non-Null Count  Dtype  \n",
      "---  ------                                 --------------  -----  \n",
      " 0   Gender                                 27901 non-null  object \n",
      " 1   Age                                    27901 non-null  int64  \n",
      " 2   Academic Pressure                      27901 non-null  int64  \n",
      " 3   Work Pressure                          27901 non-null  int64  \n",
      " 4   CGPA                                   27901 non-null  float64\n",
      " 5   Study Satisfaction                     27901 non-null  int64  \n",
      " 6   Job Satisfaction                       27901 non-null  int64  \n",
      " 7   Sleep Duration                         27901 non-null  object \n",
      " 8   Dietary Habits                         27901 non-null  object \n",
      " 9   Have you ever had suicidal thoughts ?  27901 non-null  object \n",
      " 10  Work/Study Hours                       27901 non-null  int64  \n",
      " 11  Financial Stress                       27898 non-null  float64\n",
      " 12  Family History of Mental Illness       27901 non-null  object \n",
      " 13  Depression                             27901 non-null  int64  \n",
      "dtypes: float64(2), int64(7), object(5)\n",
      "memory usage: 3.0+ MB\n"
     ]
    }
   ],
   "source": [
    "df.info()"
   ]
  },
  {
   "cell_type": "code",
   "execution_count": 7,
   "id": "b31cf6ec-874d-424c-9bc2-a000c9fc0c83",
   "metadata": {},
   "outputs": [],
   "source": [
    "df.dropna(inplace=True)"
   ]
  },
  {
   "cell_type": "code",
   "execution_count": 8,
   "id": "5136de70-afb9-4cba-81f4-25924369bc94",
   "metadata": {},
   "outputs": [],
   "source": [
    "label_cols = ['Gender', 'Sleep Duration', 'Dietary Habits', 'Have you ever had suicidal thoughts ?', 'Family History of Mental Illness']"
   ]
  },
  {
   "cell_type": "code",
   "execution_count": 9,
   "id": "218e11e3-235a-44b0-bb80-104330136a9a",
   "metadata": {},
   "outputs": [],
   "source": [
    "numerical_cols = ['Age', 'Academic Pressure', 'Work Pressure', 'CGPA', 'Study Satisfaction', 'Job Satisfaction', 'Work/Study Hours', 'Financial Stress']"
   ]
  },
  {
   "cell_type": "code",
   "execution_count": 10,
   "id": "e51a6ac5-b31e-4f77-895f-f0a47752fc38",
   "metadata": {
    "scrolled": true
   },
   "outputs": [],
   "source": [
    "from sklearn.preprocessing import LabelEncoder\n",
    "le = LabelEncoder()\n",
    "for col in label_cols:\n",
    "    df[col] = le.fit_transform(df[col].astype(str))  "
   ]
  },
  {
   "cell_type": "code",
   "execution_count": 11,
   "id": "afbe0a9c-6244-4aae-8381-ef2f916037e5",
   "metadata": {},
   "outputs": [],
   "source": [
    "X = df.iloc[:, :-1].values  \n",
    "y = df.iloc[:, -1].values   "
   ]
  },
  {
   "cell_type": "code",
   "execution_count": 12,
   "id": "40c5d918-b557-4a60-846d-7440339d44c8",
   "metadata": {},
   "outputs": [],
   "source": [
    "from sklearn.model_selection import train_test_split\n",
    "X_train, X_test, y_train, y_test = train_test_split(X, y, test_size=0.3, random_state=42)"
   ]
  },
  {
   "cell_type": "code",
   "execution_count": 13,
   "id": "5b2611cf-5510-4f6e-ab8e-ca16e5b192d1",
   "metadata": {},
   "outputs": [],
   "source": [
    "from sklearn.preprocessing import MinMaxScaler\n",
    "scaler = MinMaxScaler()\n",
    "X_train = scaler.fit_transform(X_train)\n",
    "X_test = scaler.transform(X_test)"
   ]
  },
  {
   "cell_type": "code",
   "execution_count": 14,
   "id": "31fc46a5-86d0-42f4-9aee-31d79531e63a",
   "metadata": {},
   "outputs": [],
   "source": [
    "import os\n",
    "from sklearn.ensemble import (\n",
    "    StackingClassifier, RandomForestClassifier, AdaBoostClassifier,\n",
    "    ExtraTreesClassifier, HistGradientBoostingClassifier\n",
    ")\n",
    "from sklearn.linear_model import SGDClassifier, RidgeClassifierCV\n",
    "from sklearn.svm import SVC\n",
    "from sklearn.neural_network import MLPClassifier\n",
    "from sklearn.tree import DecisionTreeClassifier\n",
    "from xgboost import XGBClassifier\n",
    "from lightgbm import LGBMClassifier\n",
    "from sklearn.model_selection import train_test_split\n",
    "from sklearn.preprocessing import StandardScaler\n",
    "from sklearn.metrics import (\n",
    "    accuracy_score, classification_report, confusion_matrix,\n",
    "    precision_score, recall_score, f1_score\n",
    ")\n",
    "from sklearn.linear_model import LogisticRegression"
   ]
  },
  {
   "cell_type": "code",
   "execution_count": 15,
   "id": "a590b76d-f8a2-40dd-a9ba-226318992e5d",
   "metadata": {},
   "outputs": [
    {
     "name": "stderr",
     "output_type": "stream",
     "text": [
      "C:\\Users\\Balvi\\AppData\\Local\\Programs\\Python\\Python312\\Lib\\site-packages\\sklearn\\utils\\validation.py:2749: UserWarning: X does not have valid feature names, but LGBMClassifier was fitted with feature names\n",
      "  warnings.warn(\n"
     ]
    }
   ],
   "source": [
    "final_layer = StackingClassifier(\n",
    "    estimators=[\n",
    "        ('xgb', XGBClassifier(n_estimators=200, learning_rate=0.05, max_depth=5,\n",
    "                              subsample=0.8, colsample_bytree=0.8,\n",
    "                              use_label_encoder=False, eval_metric='logloss', random_state=42)),\n",
    "        #('sgd', SGDClassifier(max_iter=3000, tol=1e-3, random_state=42)),\n",
    "        #('dt', DecisionTreeClassifier(max_depth=10, random_state=42)),\n",
    "        #('ada', AdaBoostClassifier(n_estimators=100, random_state=42)),\n",
    "        ('hgb', HistGradientBoostingClassifier(max_iter=300, learning_rate=0.1, random_state=42)),\n",
    "        ('rf', RandomForestClassifier(n_estimators=200, max_depth=12, max_features='sqrt', random_state=42)),\n",
    "        #('et', ExtraTreesClassifier(n_estimators=100, max_depth=5, max_features=0.5, random_state=42)),\n",
    "        ('lgbm', LGBMClassifier(n_estimators=150, learning_rate=0.05, max_depth=7, random_state=42))\n",
    "    ],\n",
    "    final_estimator=LogisticRegression(max_iter=1000),\n",
    "    passthrough=True,\n",
    "    n_jobs=-1\n",
    ")\n",
    "\n",
    "multi_layer_classifier = StackingClassifier(\n",
    "    estimators=[\n",
    "        ('ridge', RidgeClassifierCV()),\n",
    "        ('logreg', LogisticRegression(max_iter=1000))\n",
    "        #('mlp', MLPClassifier(hidden_layer_sizes=(250, 700, 100),\n",
    "                              #max_iter=3000, activation='relu', solver='adam', alpha=0.01, random_state=42))\n",
    "        #('svc', SVC(C=1, gamma=1e-3, kernel='rbf', probability=True)) \n",
    "    ],\n",
    "    final_estimator=final_layer,\n",
    "    passthrough=False,\n",
    "    n_jobs=-1\n",
    ")\n",
    "\n",
    "multi_layer_classifier.fit(X_train, y_train)\n",
    "y_pred = multi_layer_classifier.predict(X_test)"
   ]
  },
  {
   "cell_type": "code",
   "execution_count": 16,
   "id": "80c1dc42-ef70-42f5-b160-aac438e11592",
   "metadata": {},
   "outputs": [
    {
     "name": "stdout",
     "output_type": "stream",
     "text": [
      "Accuracy: 0.848626045400239\n",
      "Precision: 0.8485622669840454\n",
      "Recall: 0.848626045400239\n",
      "F1 Score: 0.8474950933998318\n"
     ]
    }
   ],
   "source": [
    "print(\"Accuracy:\", accuracy_score(y_test, y_pred))\n",
    "print(\"Precision:\", precision_score(y_test, y_pred, average='weighted', zero_division=0))\n",
    "print(\"Recall:\", recall_score(y_test, y_pred, average='weighted'))\n",
    "print(\"F1 Score:\", f1_score(y_test, y_pred, average='weighted'))"
   ]
  },
  {
   "cell_type": "code",
   "execution_count": 17,
   "id": "266e27ac-2338-44c0-b5f7-2042a96f18b3",
   "metadata": {},
   "outputs": [
    {
     "data": {
      "image/png": "[encoded data removed]",
      "text/plain": [
       "<Figure size 640x480 with 2 Axes>"
      ]
     },
     "metadata": {},
     "output_type": "display_data"
    }
   ],
   "source": [
    "from sklearn.metrics import confusion_matrix, ConfusionMatrixDisplay\n",
    "import matplotlib.pyplot as plt\n",
    "cm = confusion_matrix(y_test, y_pred)\n",
    "labels = ['Not Depressed', 'Depressed']\n",
    "disp = ConfusionMatrixDisplay(confusion_matrix=cm, display_labels=labels)\n",
    "disp.plot(cmap=plt.cm.Blues) \n",
    "plt.title('Confusion Matrix')\n",
    "plt.show()"
   ]
  },
  {
   "cell_type": "code",
   "execution_count": 18,
   "id": "9ead1763-c082-4576-b5b2-8b43a5b53106",
   "metadata": {},
   "outputs": [
    {
     "data": {
      "text/plain": [
       "['model.joblib']"
      ]
     },
     "execution_count": 18,
     "metadata": {},
     "output_type": "execute_result"
    }
   ],
   "source": [
    "import joblib\n",
    "joblib.dump(multi_layer_classifier, \"model.joblib\")"
   ]
  },
  {
   "cell_type": "code",
   "execution_count": 19,
   "id": "00231fb8-ee70-4ed3-85ba-13e76557a150",
   "metadata": {},
   "outputs": [
    {
     "data": {
      "text/plain": [
       "['scaler.joblib']"
      ]
     },
     "execution_count": 19,
     "metadata": {},
     "output_type": "execute_result"
    }
   ],
   "source": [
    "joblib.dump(scaler, \"scaler.joblib\")"
   ]
  },
  {
   "cell_type": "code",
   "execution_count": null,
   "id": "32ba024e-2859-4574-b087-129564bf6499",
   "metadata": {},
   "outputs": [],
   "source": []
  }
 ],
 "metadata": {
  "kernelspec": {
   "display_name": "Python 3 (ipykernel)",
   "language": "python",
   "name": "python3"
  },
  "language_info": {
   "codemirror_mode": {
    "name": "ipython",
    "version": 3
   },
   "file_extension": ".py",
   "mimetype": "text/x-python",
   "name": "python",
   "nbconvert_exporter": "python",
   "pygments_lexer": "ipython3",
   "version": "3.12.4"
  }
 },
 "nbformat": 4,
 "nbformat_minor": 5
}
